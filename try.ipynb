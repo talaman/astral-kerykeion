{
 "cells": [
  {
   "cell_type": "code",
   "execution_count": 1,
   "id": "33d43184",
   "metadata": {},
   "outputs": [
    {
     "name": "stderr",
     "output_type": "stream",
     "text": [
      "WARNING:root:\n",
      "********\n",
      "NO GEONAMES USERNAME SET!\n",
      "Using the default geonames username is not recommended, please set a custom one!\n",
      "You can get one for free here:\n",
      "https://www.geonames.org/login\n",
      "Keep in mind that the default username is limited to 2000 requests per hour and is shared with everyone else using this library.\n",
      "********\n"
     ]
    },
    {
     "data": {
      "text/plain": [
       "'Water'"
      ]
     },
     "execution_count": 1,
     "metadata": {},
     "output_type": "execute_result"
    }
   ],
   "source": [
    "from kerykeion import AstrologicalSubject\n",
    "\n",
    "# Create an instance of the AstrologicalSubject class.\n",
    "# Arguments: Name, year, month, day, hour, minutes, city, nation\n",
    "kanye = AstrologicalSubject(\"Kanye\", 1977, 6, 8, 8, 45, \"Atlanta\", \"US\")\n",
    "\n",
    "# Retrieve information about the Sun:\n",
    "kanye.sun\n",
    "# > {'name': 'Sun', 'quality': 'Mutable', 'element': 'Air', 'sign': 'Gem', 'sign_num': 2, ...}\n",
    "\n",
    "# Retrieve information about the first house:\n",
    "kanye.first_house\n",
    "# > {'name': 'First_House', 'quality': 'Cardinal', 'element': 'Water', 'sign': 'Can', ...}\n",
    "\n",
    "# Retrieve the element of the Moon sign:\n",
    "kanye.moon.element\n",
    "# > 'Water'"
   ]
  },
  {
   "cell_type": "code",
   "execution_count": 2,
   "id": "74d413c3",
   "metadata": {},
   "outputs": [],
   "source": [
    "kanye = AstrologicalSubject(\n",
    "    \"Kanye\", 1977, 6, 8, 8, 45,\n",
    "    lng=50,\n",
    "    lat=50,\n",
    "    tz_str=\"Europe/Rome\",\n",
    "    city=\"Rome\"\n",
    ")"
   ]
  },
  {
   "cell_type": "code",
   "execution_count": 14,
   "id": "fb8c00ad",
   "metadata": {},
   "outputs": [
    {
     "name": "stderr",
     "output_type": "stream",
     "text": [
      "WARNING:root:\n",
      "********\n",
      "NO GEONAMES USERNAME SET!\n",
      "Using the default geonames username is not recommended, please set a custom one!\n",
      "You can get one for free here:\n",
      "https://www.geonames.org/login\n",
      "Keep in mind that the default username is limited to 2000 requests per hour and is shared with everyone else using this library.\n",
      "********\n"
     ]
    },
    {
     "name": "stdout",
     "output_type": "stream",
     "text": [
      "SVG Generated Correctly in: output/Daniel Tala - Natal Chart.svg\n"
     ]
    }
   ],
   "source": [
    "from kerykeion import AstrologicalSubject, KerykeionChartSVG\n",
    "\n",
    "subject1 = AstrologicalSubject(\"Daniel Tala\", 1988, 1, 23, 12, 10, \"Santiago\", \"CL\")\n",
    "birth_chart_svg = KerykeionChartSVG(subject1, new_output_directory=\"./output\",chart_language=\"ES\")\n",
    "birth_chart_svg.makeSVG()"
   ]
  },
  {
   "cell_type": "code",
   "execution_count": 20,
   "id": "669f92fe",
   "metadata": {},
   "outputs": [
    {
     "name": "stderr",
     "output_type": "stream",
     "text": [
      "WARNING:root:\n",
      "********\n",
      "NO GEONAMES USERNAME SET!\n",
      "Using the default geonames username is not recommended, please set a custom one!\n",
      "You can get one for free here:\n",
      "https://www.geonames.org/login\n",
      "Keep in mind that the default username is limited to 2000 requests per hour and is shared with everyone else using this library.\n",
      "********\n"
     ]
    },
    {
     "name": "stdout",
     "output_type": "stream",
     "text": [
      "SVG Generated Correctly in: output/Constanza Pradenas - Natal Chart.svg\n"
     ]
    }
   ],
   "source": [
    "subject2 = AstrologicalSubject(\"Constanza Pradenas\", 1987, 6, 13, 5, 17, \"Santiago\", \"CL\")\n",
    "birth_chart_svg = KerykeionChartSVG(subject2, new_output_directory=\"./output\",chart_language=\"ES\",theme=\"light\")\n",
    "birth_chart_svg.makeSVG()"
   ]
  },
  {
   "cell_type": "code",
   "execution_count": null,
   "id": "f799262f",
   "metadata": {},
   "outputs": [
    {
     "name": "stderr",
     "output_type": "stream",
     "text": [
      "WARNING:root:\n",
      "********\n",
      "NO GEONAMES USERNAME SET!\n",
      "Using the default geonames username is not recommended, please set a custom one!\n",
      "You can get one for free here:\n",
      "https://www.geonames.org/login\n",
      "Keep in mind that the default username is limited to 2000 requests per hour and is shared with everyone else using this library.\n",
      "********\n"
     ]
    },
    {
     "name": "stdout",
     "output_type": "stream",
     "text": [
      "SVG Generated Correctly in: output/Daniel Tala - Synastry Chart.svg\n"
     ]
    }
   ],
   "source": [
    "\n",
    "\n",
    "synastry_chart = KerykeionChartSVG(subject1, \"Synastry\", subject2,new_output_directory=\"./output\",chart_language=\"ES\",theme=\"dark\")\n",
    "synastry_chart.makeSVG()"
   ]
  },
  {
   "cell_type": "code",
   "execution_count": null,
   "id": "5eb6ea8b",
   "metadata": {},
   "outputs": [],
   "source": []
  }
 ],
 "metadata": {
  "kernelspec": {
   "display_name": "Python 3",
   "language": "python",
   "name": "python3"
  },
  "language_info": {
   "codemirror_mode": {
    "name": "ipython",
    "version": 3
   },
   "file_extension": ".py",
   "mimetype": "text/x-python",
   "name": "python",
   "nbconvert_exporter": "python",
   "pygments_lexer": "ipython3",
   "version": "3.12.10"
  }
 },
 "nbformat": 4,
 "nbformat_minor": 5
}
